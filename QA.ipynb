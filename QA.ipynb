{
 "cells": [
  {
   "cell_type": "code",
   "execution_count": 1,
   "metadata": {},
   "outputs": [],
   "source": [
    "import os\n",
    "import glob\n",
    "import psycopg2\n",
    "import pandas as pd\n",
    "import matplotlib.pyplot as plt\n",
    "plt.style.use('ggplot')\n",
    "from sql_queries import *\n",
    "%matplotlib inline"
   ]
  },
  {
   "cell_type": "code",
   "execution_count": 2,
   "metadata": {},
   "outputs": [],
   "source": [
    "conn = psycopg2.connect(\"host=127.0.0.1 dbname=sparkifydb user=student password=student\")\n",
    "cur = conn.cursor()\n",
    "conn.set_session(autocommit=True)"
   ]
  },
  {
   "cell_type": "markdown",
   "metadata": {},
   "source": [
    "## Check that all song file data is in database"
   ]
  },
  {
   "cell_type": "markdown",
   "metadata": {},
   "source": [
    "### Unique song_ids in inputs"
   ]
  },
  {
   "cell_type": "code",
   "execution_count": 3,
   "metadata": {},
   "outputs": [
    {
     "name": "stdout",
     "output_type": "stream",
     "text": [
      "71 files found in data/song_data\n",
      "\n",
      "71 song IDs found in input data\n",
      "\n",
      "69 artist IDs found in input data\n"
     ]
    },
    {
     "data": {
      "text/html": [
       "<div>\n",
       "<style scoped>\n",
       "    .dataframe tbody tr th:only-of-type {\n",
       "        vertical-align: middle;\n",
       "    }\n",
       "\n",
       "    .dataframe tbody tr th {\n",
       "        vertical-align: top;\n",
       "    }\n",
       "\n",
       "    .dataframe thead th {\n",
       "        text-align: right;\n",
       "    }\n",
       "</style>\n",
       "<table border=\"1\" class=\"dataframe\">\n",
       "  <thead>\n",
       "    <tr style=\"text-align: right;\">\n",
       "      <th></th>\n",
       "      <th>tbl</th>\n",
       "      <th>count</th>\n",
       "    </tr>\n",
       "  </thead>\n",
       "  <tbody>\n",
       "    <tr>\n",
       "      <th>0</th>\n",
       "      <td>RAW DATA</td>\n",
       "      <td>71</td>\n",
       "    </tr>\n",
       "  </tbody>\n",
       "</table>\n",
       "</div>"
      ],
      "text/plain": [
       "        tbl  count\n",
       "0  RAW DATA     71"
      ]
     },
     "execution_count": 3,
     "metadata": {},
     "output_type": "execute_result"
    }
   ],
   "source": [
    "filepath='data/song_data'\n",
    "all_files = []\n",
    "for root, dirs, files in os.walk(filepath):\n",
    "    files = glob.glob(os.path.join(root,'*.json'))\n",
    "    for f in files :\n",
    "        all_files.append(os.path.abspath(f))\n",
    "\n",
    "# get total number of files found\n",
    "num_files = len(all_files)\n",
    "print('{} files found in {}'.format(num_files, filepath))\n",
    "\n",
    "artist_ids = set()\n",
    "song_ids = set()\n",
    "# iterate over files and process\n",
    "for i, datafile in enumerate(all_files, 1):\n",
    "    df = pd.read_json(datafile, lines=True)\n",
    "    song_ids.add(df.song_id.values[0])\n",
    "    artist_ids.add(df.artist_id.values[0])\n",
    "print ('\\n{} song IDs found in input data'.format(len(song_ids)))\n",
    "print ('\\n{} artist IDs found in input data'.format(len(artist_ids)))\n",
    "song_df = pd.DataFrame(data={\n",
    "    'tbl': ['RAW DATA'],\n",
    "    'count': [len(song_ids)]\n",
    "})\n",
    "artist_df = pd.DataFrame(data={\n",
    "    'tbl': ['RAW DATA'],\n",
    "    'count': [len(artist_ids)]\n",
    "})\n",
    "\n",
    "song_df"
   ]
  },
  {
   "cell_type": "markdown",
   "metadata": {},
   "source": [
    "### Unique song_ids in database"
   ]
  },
  {
   "cell_type": "code",
   "execution_count": 4,
   "metadata": {},
   "outputs": [
    {
     "data": {
      "text/html": [
       "<div>\n",
       "<style scoped>\n",
       "    .dataframe tbody tr th:only-of-type {\n",
       "        vertical-align: middle;\n",
       "    }\n",
       "\n",
       "    .dataframe tbody tr th {\n",
       "        vertical-align: top;\n",
       "    }\n",
       "\n",
       "    .dataframe thead th {\n",
       "        text-align: right;\n",
       "    }\n",
       "</style>\n",
       "<table border=\"1\" class=\"dataframe\">\n",
       "  <thead>\n",
       "    <tr style=\"text-align: right;\">\n",
       "      <th></th>\n",
       "      <th>tbl</th>\n",
       "      <th>count</th>\n",
       "    </tr>\n",
       "  </thead>\n",
       "  <tbody>\n",
       "    <tr>\n",
       "      <th>0</th>\n",
       "      <td>RAW DATA</td>\n",
       "      <td>71</td>\n",
       "    </tr>\n",
       "    <tr>\n",
       "      <th>0</th>\n",
       "      <td>SONG TABLE</td>\n",
       "      <td>71</td>\n",
       "    </tr>\n",
       "    <tr>\n",
       "      <th>1</th>\n",
       "      <td>SONGPLAY TABLE</td>\n",
       "      <td>1</td>\n",
       "    </tr>\n",
       "  </tbody>\n",
       "</table>\n",
       "</div>"
      ],
      "text/plain": [
       "              tbl  count\n",
       "0        RAW DATA     71\n",
       "0      SONG TABLE     71\n",
       "1  SONGPLAY TABLE      1"
      ]
     },
     "execution_count": 4,
     "metadata": {},
     "output_type": "execute_result"
    }
   ],
   "source": [
    "try: \n",
    "    cur.execute(\"\"\"\n",
    "    SELECT 'SONG TABLE' as tbl, COUNT(DISTINCT song_id) from songs\n",
    "    union all \n",
    "    SELECT 'SONGPLAY TABLE' as tbl, COUNT(DISTINCT song_id) from songplays\n",
    "    \n",
    "    \"\"\")\n",
    "except psycopg2.Error as e: \n",
    "    print(\"Error: Select * failure\")\n",
    "    print (e)\n",
    "df = pd.DataFrame(cur.fetchall())\n",
    "df.columns = [desc[0] for desc in cur.description]\n",
    "df.head()\n",
    "pd.concat([song_df, df])"
   ]
  },
  {
   "cell_type": "code",
   "execution_count": 5,
   "metadata": {},
   "outputs": [
    {
     "data": {
      "text/html": [
       "<div>\n",
       "<style scoped>\n",
       "    .dataframe tbody tr th:only-of-type {\n",
       "        vertical-align: middle;\n",
       "    }\n",
       "\n",
       "    .dataframe tbody tr th {\n",
       "        vertical-align: top;\n",
       "    }\n",
       "\n",
       "    .dataframe thead th {\n",
       "        text-align: right;\n",
       "    }\n",
       "</style>\n",
       "<table border=\"1\" class=\"dataframe\">\n",
       "  <thead>\n",
       "    <tr style=\"text-align: right;\">\n",
       "      <th></th>\n",
       "      <th>tbl</th>\n",
       "      <th>count</th>\n",
       "    </tr>\n",
       "  </thead>\n",
       "  <tbody>\n",
       "    <tr>\n",
       "      <th>0</th>\n",
       "      <td>RAW DATA</td>\n",
       "      <td>69</td>\n",
       "    </tr>\n",
       "    <tr>\n",
       "      <th>0</th>\n",
       "      <td>SONGPLAY TABLE</td>\n",
       "      <td>1</td>\n",
       "    </tr>\n",
       "    <tr>\n",
       "      <th>1</th>\n",
       "      <td>ARTIST TABLE</td>\n",
       "      <td>69</td>\n",
       "    </tr>\n",
       "  </tbody>\n",
       "</table>\n",
       "</div>"
      ],
      "text/plain": [
       "              tbl  count\n",
       "0        RAW DATA     69\n",
       "0  SONGPLAY TABLE      1\n",
       "1    ARTIST TABLE     69"
      ]
     },
     "execution_count": 5,
     "metadata": {},
     "output_type": "execute_result"
    }
   ],
   "source": [
    "try: \n",
    "    cur.execute(\"\"\"\n",
    "    SELECT 'SONGPLAY TABLE' as tbl, COUNT(DISTINCT artist_id) from songplays\n",
    "    union all\n",
    "    SELECT 'ARTIST TABLE' as tbl, COUNT(DISTINCT artist_id) from artists\n",
    "    \n",
    "    \"\"\")\n",
    "except psycopg2.Error as e: \n",
    "    print(\"Error: Select * failure\")\n",
    "    print (e)\n",
    "df = pd.DataFrame(cur.fetchall())\n",
    "df.columns = [desc[0] for desc in cur.description]\n",
    "df.head()\n",
    "\n",
    "artist_df = pd.DataFrame(data={\n",
    "    'tbl': ['RAW DATA'],\n",
    "    'count': [len(artist_ids)]\n",
    "})\n",
    "pd.concat([artist_df,df])"
   ]
  },
  {
   "cell_type": "code",
   "execution_count": null,
   "metadata": {},
   "outputs": [],
   "source": []
  },
  {
   "cell_type": "markdown",
   "metadata": {},
   "source": [
    "# Check that all log data is in the database"
   ]
  },
  {
   "cell_type": "markdown",
   "metadata": {},
   "source": [
    "#### Values to check:\n",
    "1. session_id\n",
    "1. user_id\n",
    "1. timstamps"
   ]
  },
  {
   "cell_type": "markdown",
   "metadata": {},
   "source": [
    "### Get log data"
   ]
  },
  {
   "cell_type": "code",
   "execution_count": 6,
   "metadata": {},
   "outputs": [
    {
     "name": "stdout",
     "output_type": "stream",
     "text": [
      "30 files found in data/log_data\n",
      "\n",
      "776 session IDs found in input data\n",
      "\n",
      "96 user IDs found in input data\n",
      "\n",
      "6813 timestamps found in input data\n"
     ]
    }
   ],
   "source": [
    "filepath='data/log_data'\n",
    "all_files = []\n",
    "for root, dirs, files in os.walk(filepath):\n",
    "    files = glob.glob(os.path.join(root,'*.json'))\n",
    "    for f in files :\n",
    "        all_files.append(os.path.abspath(f))\n",
    "\n",
    "# get total number of files found\n",
    "num_files = len(all_files)\n",
    "print('{} files found in {}'.format(num_files, filepath))\n",
    "\n",
    "session_ids = set()\n",
    "user_ids = set()\n",
    "timestamps = set()\n",
    "\n",
    "# iterate over files and process\n",
    "for i, datafile in enumerate(all_files, 1):\n",
    "    df = pd.read_json(datafile, lines=True)\n",
    "    df = df[(df.page=='NextSong')]\n",
    "    session_ids = session_ids.union(set(df.sessionId.values))\n",
    "    user_ids = user_ids.union(set(df.userId.values))\n",
    "    timestamps = timestamps.union(set(df.ts.values))\n",
    "user_ids = {int(i) for i in user_ids}\n",
    "print ('\\n{} session IDs found in input data'.format(len(session_ids)))\n",
    "print ('\\n{} user IDs found in input data'.format(len(user_ids)))\n",
    "print ('\\n{} timestamps found in input data'.format(len(timestamps)))\n",
    "\n",
    "\n"
   ]
  },
  {
   "cell_type": "markdown",
   "metadata": {},
   "source": [
    "#### Check database for session IDs"
   ]
  },
  {
   "cell_type": "code",
   "execution_count": 7,
   "metadata": {},
   "outputs": [
    {
     "data": {
      "text/html": [
       "<div>\n",
       "<style scoped>\n",
       "    .dataframe tbody tr th:only-of-type {\n",
       "        vertical-align: middle;\n",
       "    }\n",
       "\n",
       "    .dataframe tbody tr th {\n",
       "        vertical-align: top;\n",
       "    }\n",
       "\n",
       "    .dataframe thead th {\n",
       "        text-align: right;\n",
       "    }\n",
       "</style>\n",
       "<table border=\"1\" class=\"dataframe\">\n",
       "  <thead>\n",
       "    <tr style=\"text-align: right;\">\n",
       "      <th></th>\n",
       "      <th>tbl</th>\n",
       "      <th>count</th>\n",
       "    </tr>\n",
       "  </thead>\n",
       "  <tbody>\n",
       "    <tr>\n",
       "      <th>0</th>\n",
       "      <td>RAW DATA</td>\n",
       "      <td>776</td>\n",
       "    </tr>\n",
       "    <tr>\n",
       "      <th>0</th>\n",
       "      <td>SONGPLAY TABLE</td>\n",
       "      <td>776</td>\n",
       "    </tr>\n",
       "  </tbody>\n",
       "</table>\n",
       "</div>"
      ],
      "text/plain": [
       "              tbl  count\n",
       "0        RAW DATA    776\n",
       "0  SONGPLAY TABLE    776"
      ]
     },
     "execution_count": 7,
     "metadata": {},
     "output_type": "execute_result"
    }
   ],
   "source": [
    "try: \n",
    "    cur.execute(\"\"\"\n",
    "    SELECT 'SONGPLAY TABLE' as tbl, COUNT(DISTINCT session_id) from songplays\n",
    "    \n",
    "    \"\"\")\n",
    "except psycopg2.Error as e: \n",
    "    print(\"Error: Select * failure\")\n",
    "    print (e)\n",
    "df = pd.DataFrame(cur.fetchall())\n",
    "df.columns = [desc[0] for desc in cur.description]\n",
    "df.head()\n",
    "\n",
    "session_df = pd.DataFrame(data={\n",
    "    'tbl': ['RAW DATA'],\n",
    "    'count': [len(session_ids)]\n",
    "})\n",
    "pd.concat([session_df,df])"
   ]
  },
  {
   "cell_type": "markdown",
   "metadata": {},
   "source": [
    "#### Check database for user IDs"
   ]
  },
  {
   "cell_type": "code",
   "execution_count": 8,
   "metadata": {},
   "outputs": [
    {
     "data": {
      "text/html": [
       "<div>\n",
       "<style scoped>\n",
       "    .dataframe tbody tr th:only-of-type {\n",
       "        vertical-align: middle;\n",
       "    }\n",
       "\n",
       "    .dataframe tbody tr th {\n",
       "        vertical-align: top;\n",
       "    }\n",
       "\n",
       "    .dataframe thead th {\n",
       "        text-align: right;\n",
       "    }\n",
       "</style>\n",
       "<table border=\"1\" class=\"dataframe\">\n",
       "  <thead>\n",
       "    <tr style=\"text-align: right;\">\n",
       "      <th></th>\n",
       "      <th>tbl</th>\n",
       "      <th>count</th>\n",
       "    </tr>\n",
       "  </thead>\n",
       "  <tbody>\n",
       "    <tr>\n",
       "      <th>0</th>\n",
       "      <td>RAW DATA</td>\n",
       "      <td>96</td>\n",
       "    </tr>\n",
       "    <tr>\n",
       "      <th>0</th>\n",
       "      <td>SONGPLAY TABLE</td>\n",
       "      <td>96</td>\n",
       "    </tr>\n",
       "    <tr>\n",
       "      <th>1</th>\n",
       "      <td>USER TABLE</td>\n",
       "      <td>96</td>\n",
       "    </tr>\n",
       "  </tbody>\n",
       "</table>\n",
       "</div>"
      ],
      "text/plain": [
       "              tbl  count\n",
       "0        RAW DATA     96\n",
       "0  SONGPLAY TABLE     96\n",
       "1      USER TABLE     96"
      ]
     },
     "execution_count": 8,
     "metadata": {},
     "output_type": "execute_result"
    }
   ],
   "source": [
    "try: \n",
    "    cur.execute(\"\"\"\n",
    "    SELECT 'SONGPLAY TABLE' as tbl, COUNT(DISTINCT user_id) from songplays\n",
    "    union all\n",
    "    SELECT 'USER TABLE' as tbl, COUNT(DISTINCT user_id) from users\n",
    "    \n",
    "    \"\"\")\n",
    "except psycopg2.Error as e: \n",
    "    print(\"Error: Select * failure\")\n",
    "    print (e)\n",
    "df = pd.DataFrame(cur.fetchall())\n",
    "df.columns = [desc[0] for desc in cur.description]\n",
    "df.head()\n",
    "\n",
    "user_df = pd.DataFrame(data={\n",
    "    'tbl': ['RAW DATA'],\n",
    "    'count': [len(user_ids)]\n",
    "})\n",
    "pd.concat([user_df,df])"
   ]
  },
  {
   "cell_type": "markdown",
   "metadata": {},
   "source": [
    "#### Check database for session IDs"
   ]
  },
  {
   "cell_type": "code",
   "execution_count": 9,
   "metadata": {},
   "outputs": [
    {
     "data": {
      "text/html": [
       "<div>\n",
       "<style scoped>\n",
       "    .dataframe tbody tr th:only-of-type {\n",
       "        vertical-align: middle;\n",
       "    }\n",
       "\n",
       "    .dataframe tbody tr th {\n",
       "        vertical-align: top;\n",
       "    }\n",
       "\n",
       "    .dataframe thead th {\n",
       "        text-align: right;\n",
       "    }\n",
       "</style>\n",
       "<table border=\"1\" class=\"dataframe\">\n",
       "  <thead>\n",
       "    <tr style=\"text-align: right;\">\n",
       "      <th></th>\n",
       "      <th>tbl</th>\n",
       "      <th>count</th>\n",
       "    </tr>\n",
       "  </thead>\n",
       "  <tbody>\n",
       "    <tr>\n",
       "      <th>0</th>\n",
       "      <td>RAW DATA</td>\n",
       "      <td>776</td>\n",
       "    </tr>\n",
       "    <tr>\n",
       "      <th>0</th>\n",
       "      <td>SONGPLAY TABLE</td>\n",
       "      <td>776</td>\n",
       "    </tr>\n",
       "  </tbody>\n",
       "</table>\n",
       "</div>"
      ],
      "text/plain": [
       "              tbl  count\n",
       "0        RAW DATA    776\n",
       "0  SONGPLAY TABLE    776"
      ]
     },
     "execution_count": 9,
     "metadata": {},
     "output_type": "execute_result"
    }
   ],
   "source": [
    "try: \n",
    "    cur.execute(\"\"\"\n",
    "    SELECT 'SONGPLAY TABLE' as tbl, COUNT(DISTINCT session_id) from songplays\n",
    "    \n",
    "    \"\"\")\n",
    "except psycopg2.Error as e: \n",
    "    print(\"Error: Select * failure\")\n",
    "    print (e)\n",
    "df = pd.DataFrame(cur.fetchall())\n",
    "df.columns = [desc[0] for desc in cur.description]\n",
    "df.head()\n",
    "\n",
    "session_df = pd.DataFrame(data={\n",
    "    'tbl': ['RAW DATA'],\n",
    "    'count': [len(session_ids)]\n",
    "})\n",
    "pd.concat([session_df,df])"
   ]
  },
  {
   "cell_type": "markdown",
   "metadata": {},
   "source": [
    "#### Check database for tomestamps"
   ]
  },
  {
   "cell_type": "code",
   "execution_count": 10,
   "metadata": {},
   "outputs": [
    {
     "data": {
      "text/html": [
       "<div>\n",
       "<style scoped>\n",
       "    .dataframe tbody tr th:only-of-type {\n",
       "        vertical-align: middle;\n",
       "    }\n",
       "\n",
       "    .dataframe tbody tr th {\n",
       "        vertical-align: top;\n",
       "    }\n",
       "\n",
       "    .dataframe thead th {\n",
       "        text-align: right;\n",
       "    }\n",
       "</style>\n",
       "<table border=\"1\" class=\"dataframe\">\n",
       "  <thead>\n",
       "    <tr style=\"text-align: right;\">\n",
       "      <th></th>\n",
       "      <th>tbl</th>\n",
       "      <th>count</th>\n",
       "    </tr>\n",
       "  </thead>\n",
       "  <tbody>\n",
       "    <tr>\n",
       "      <th>0</th>\n",
       "      <td>RAW DATA</td>\n",
       "      <td>6813</td>\n",
       "    </tr>\n",
       "    <tr>\n",
       "      <th>0</th>\n",
       "      <td>SONGPLAY TABLE</td>\n",
       "      <td>6813</td>\n",
       "    </tr>\n",
       "    <tr>\n",
       "      <th>1</th>\n",
       "      <td>TIME TABLE</td>\n",
       "      <td>6813</td>\n",
       "    </tr>\n",
       "  </tbody>\n",
       "</table>\n",
       "</div>"
      ],
      "text/plain": [
       "              tbl  count\n",
       "0        RAW DATA   6813\n",
       "0  SONGPLAY TABLE   6813\n",
       "1      TIME TABLE   6813"
      ]
     },
     "execution_count": 10,
     "metadata": {},
     "output_type": "execute_result"
    }
   ],
   "source": [
    "try: \n",
    "    cur.execute(\"\"\"\n",
    "    SELECT 'SONGPLAY TABLE' as tbl, COUNT(DISTINCT start_time) from songplays\n",
    "    union all\n",
    "    SELECT 'TIME TABLE' as tbl, COUNT(DISTINCT start_time) from time\n",
    "    \n",
    "    \"\"\")\n",
    "except psycopg2.Error as e: \n",
    "    print(\"Error: Select * failure\")\n",
    "    print (e)\n",
    "df = pd.DataFrame(cur.fetchall())\n",
    "df.columns = [desc[0] for desc in cur.description]\n",
    "df.head()\n",
    "\n",
    "time_df = pd.DataFrame(data={\n",
    "    'tbl': ['RAW DATA'],\n",
    "    'count': [len(timestamps)]\n",
    "})\n",
    "pd.concat([time_df,df])"
   ]
  },
  {
   "cell_type": "code",
   "execution_count": 11,
   "metadata": {},
   "outputs": [
    {
     "data": {
      "text/html": [
       "<div>\n",
       "<style scoped>\n",
       "    .dataframe tbody tr th:only-of-type {\n",
       "        vertical-align: middle;\n",
       "    }\n",
       "\n",
       "    .dataframe tbody tr th {\n",
       "        vertical-align: top;\n",
       "    }\n",
       "\n",
       "    .dataframe thead th {\n",
       "        text-align: right;\n",
       "    }\n",
       "</style>\n",
       "<table border=\"1\" class=\"dataframe\">\n",
       "  <thead>\n",
       "    <tr style=\"text-align: right;\">\n",
       "      <th></th>\n",
       "      <th>start_time</th>\n",
       "    </tr>\n",
       "  </thead>\n",
       "  <tbody>\n",
       "    <tr>\n",
       "      <th>0</th>\n",
       "      <td>2018-11-29 00:00:57.796</td>\n",
       "    </tr>\n",
       "    <tr>\n",
       "      <th>1</th>\n",
       "      <td>2018-11-29 00:01:30.796</td>\n",
       "    </tr>\n",
       "    <tr>\n",
       "      <th>2</th>\n",
       "      <td>2018-11-29 00:04:01.796</td>\n",
       "    </tr>\n",
       "    <tr>\n",
       "      <th>3</th>\n",
       "      <td>2018-11-29 00:04:55.796</td>\n",
       "    </tr>\n",
       "    <tr>\n",
       "      <th>4</th>\n",
       "      <td>2018-11-29 00:07:13.796</td>\n",
       "    </tr>\n",
       "  </tbody>\n",
       "</table>\n",
       "</div>"
      ],
      "text/plain": [
       "               start_time\n",
       "0 2018-11-29 00:00:57.796\n",
       "1 2018-11-29 00:01:30.796\n",
       "2 2018-11-29 00:04:01.796\n",
       "3 2018-11-29 00:04:55.796\n",
       "4 2018-11-29 00:07:13.796"
      ]
     },
     "execution_count": 11,
     "metadata": {},
     "output_type": "execute_result"
    }
   ],
   "source": [
    "try: \n",
    "    cur.execute(\"\"\"\n",
    "    SELECT start_time from time\n",
    "    \n",
    "    \"\"\")\n",
    "except psycopg2.Error as e: \n",
    "    print(\"Error: Select * failure\")\n",
    "    print (e)\n",
    "df = pd.DataFrame(cur.fetchall())\n",
    "df.columns = [desc[0] for desc in cur.description]\n",
    "df.head()\n"
   ]
  },
  {
   "cell_type": "code",
   "execution_count": 13,
   "metadata": {},
   "outputs": [
    {
     "data": {
      "text/plain": [
       "Text(0.5,0.98,'Sessions per User')"
      ]
     },
     "execution_count": 13,
     "metadata": {},
     "output_type": "execute_result"
    },
    {
     "data": {
      "image/png": "[encoded data removed]",
      "text/plain": [
       "<matplotlib.figure.Figure at 0x7f3e0876ce48>"
      ]
     },
     "metadata": {
      "needs_background": "light"
     },
     "output_type": "display_data"
    }
   ],
   "source": [
    "try: \n",
    "    cur.execute(\"\"\"\n",
    "    SELECT user_id, count(distinct session_id) from songplays\n",
    "    group by user_id\n",
    "    \n",
    "    \"\"\")\n",
    "except psycopg2.Error as e: \n",
    "    print(\"Error: Select * failure\")\n",
    "    print (e)\n",
    "df = pd.DataFrame(cur.fetchall())\n",
    "df.columns = [desc[0] for desc in cur.description]\n",
    "# df.head()\n",
    "df['count'].hist()\n",
    "plt.suptitle('Sessions per User')"
   ]
  },
  {
   "cell_type": "code",
   "execution_count": 14,
   "metadata": {},
   "outputs": [
    {
     "data": {
      "text/plain": [
       "Text(0.5,0.98,'Users per location')"
      ]
     },
     "execution_count": 14,
     "metadata": {},
     "output_type": "execute_result"
    },
    {
     "data": {
      "image/png": "[encoded data removed]",
      "text/plain": [
       "<matplotlib.figure.Figure at 0x7f3e05cc2a90>"
      ]
     },
     "metadata": {
      "needs_background": "light"
     },
     "output_type": "display_data"
    }
   ],
   "source": [
    "try: \n",
    "    cur.execute(\"\"\"\n",
    "    SELECT location, count(distinct user_id) from songplays\n",
    "    group by location\n",
    "    \n",
    "    \"\"\")\n",
    "except psycopg2.Error as e: \n",
    "    print(\"Error: Select * failure\")\n",
    "    print (e)\n",
    "df = pd.DataFrame(cur.fetchall())\n",
    "df.columns = [desc[0] for desc in cur.description]\n",
    "# df.head()\n",
    "df['count'].hist(bins=10)\n",
    "plt.suptitle('Users per location')"
   ]
  },
  {
   "cell_type": "code",
   "execution_count": 15,
   "metadata": {},
   "outputs": [
    {
     "data": {
      "text/plain": [
       "Text(0.5,0.98,'User level split')"
      ]
     },
     "execution_count": 15,
     "metadata": {},
     "output_type": "execute_result"
    },
    {
     "data": {
      "image/png": "[encoded data removed]",
      "text/plain": [
       "<matplotlib.figure.Figure at 0x7f3e05caaa90>"
      ]
     },
     "metadata": {},
     "output_type": "display_data"
    }
   ],
   "source": [
    "try: \n",
    "    cur.execute(\"\"\"\n",
    "    SELECT level, count(distinct user_id) from users\n",
    "    group by level\n",
    "    \n",
    "    \"\"\")\n",
    "except psycopg2.Error as e: \n",
    "    print(\"Error: Select * failure\")\n",
    "    print (e)\n",
    "df = pd.DataFrame(cur.fetchall())\n",
    "df.columns = [desc[0] for desc in cur.description]\n",
    "# df.head()\n",
    "df['count'].plot(kind='pie', labels=df.level)\n",
    "plt.suptitle('User level split')"
   ]
  },
  {
   "cell_type": "code",
   "execution_count": 17,
   "metadata": {},
   "outputs": [
    {
     "data": {
      "text/plain": [
       "Text(0.5,0.98,'User gender split')"
      ]
     },
     "execution_count": 17,
     "metadata": {},
     "output_type": "execute_result"
    },
    {
     "data": {
      "image/png": "[encoded data removed]",
      "text/plain": [
       "<matplotlib.figure.Figure at 0x7f3e059d9128>"
      ]
     },
     "metadata": {},
     "output_type": "display_data"
    }
   ],
   "source": [
    "try: \n",
    "    cur.execute(\"\"\"\n",
    "    SELECT gender, COUNT(distinct user_id) as cnt\n",
    "    FROM users \n",
    "    GROUP BY gender\n",
    "    \n",
    "    \"\"\")\n",
    "except psycopg2.Error as e: \n",
    "    print(\"Error: Select * failure\")\n",
    "    print (e)\n",
    "df = pd.DataFrame(cur.fetchall())\n",
    "df.columns = [desc[0] for desc in cur.description]\n",
    "# df.head()\n",
    "df['cnt'].plot(kind='pie', labels=df.gender)\n",
    "plt.suptitle('User gender split')"
   ]
  },
  {
   "cell_type": "code",
   "execution_count": 18,
   "metadata": {},
   "outputs": [
    {
     "data": {
      "text/plain": [
       "Text(0.5,0.98,'Useage by day of week')"
      ]
     },
     "execution_count": 18,
     "metadata": {},
     "output_type": "execute_result"
    },
    {
     "data": {
      "image/png": "[encoded data removed]",
      "text/plain": [
       "<matplotlib.figure.Figure at 0x7f3e059d91d0>"
      ]
     },
     "metadata": {
      "needs_background": "light"
     },
     "output_type": "display_data"
    }
   ],
   "source": [
    "try: \n",
    "    cur.execute(\"\"\"\n",
    "    SELECT weekday, count(*) from time\n",
    "    group by weekday\n",
    "    \n",
    "    \"\"\")\n",
    "except psycopg2.Error as e: \n",
    "    print(\"Error: Select * failure\")\n",
    "    print (e)\n",
    "df = pd.DataFrame(cur.fetchall())\n",
    "df.columns = [desc[0] for desc in cur.description]\n",
    "# df.head()\n",
    "df['count'].plot(kind='bar')\n",
    "plt.suptitle('Useage by day of week')"
   ]
  },
  {
   "cell_type": "code",
   "execution_count": 19,
   "metadata": {},
   "outputs": [
    {
     "data": {
      "text/plain": [
       "Text(0.5,0.98,'Useage by day of hour')"
      ]
     },
     "execution_count": 19,
     "metadata": {},
     "output_type": "execute_result"
    },
    {
     "data": {
      "image/png": "[encoded data removed]",
      "text/plain": [
       "<matplotlib.figure.Figure at 0x7f3e059e2518>"
      ]
     },
     "metadata": {
      "needs_background": "light"
     },
     "output_type": "display_data"
    }
   ],
   "source": [
    "try: \n",
    "    cur.execute(\"\"\"\n",
    "    SELECT hour, count(*) from time\n",
    "    group by hour\n",
    "    \n",
    "    \n",
    "    \"\"\")\n",
    "except psycopg2.Error as e: \n",
    "    print(\"Error: Select * failure\")\n",
    "    print (e)\n",
    "df = pd.DataFrame(cur.fetchall())\n",
    "df.columns = [desc[0] for desc in cur.description]\n",
    "# df.head()\n",
    "df['count'].plot(kind='bar')\n",
    "plt.suptitle('Useage by day of hour')"
   ]
  },
  {
   "cell_type": "code",
   "execution_count": null,
   "metadata": {},
   "outputs": [],
   "source": []
  }
 ],
 "metadata": {
  "kernelspec": {
   "display_name": "Python 3",
   "language": "python",
   "name": "python3"
  },
  "language_info": {
   "codemirror_mode": {
    "name": "ipython",
    "version": 3
   },
   "file_extension": ".py",
   "mimetype": "text/x-python",
   "name": "python",
   "nbconvert_exporter": "python",
   "pygments_lexer": "ipython3",
   "version": "3.6.3"
  }
 },
 "nbformat": 4,
 "nbformat_minor": 2
}
